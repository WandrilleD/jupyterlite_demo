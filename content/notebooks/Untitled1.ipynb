{
 "cells": [
  {
   "cell_type": "code",
   "execution_count": 1,
   "id": "fef48337",
   "metadata": {},
   "outputs": [
    {
     "data": {
      "text/plain": [
       "[0, 3, 2, 4]"
      ]
     },
     "execution_count": 1,
     "metadata": {},
     "output_type": "execute_result"
    }
   ],
   "source": [
    "l = [0,3,2]\n",
    "\n",
    "l.append(4)\n",
    "\n",
    "l"
   ]
  },
  {
   "cell_type": "code",
   "execution_count": 4,
   "id": "07510fef",
   "metadata": {},
   "outputs": [
    {
     "data": {
      "text/plain": [
       "1"
      ]
     },
     "execution_count": 4,
     "metadata": {},
     "output_type": "execute_result"
    }
   ],
   "source": [
    "l.index(3)"
   ]
  },
  {
   "cell_type": "code",
   "execution_count": 5,
   "id": "eb0e365d",
   "metadata": {},
   "outputs": [],
   "source": [
    "d = {}\n",
    "\n",
    "d['python'] = 'great'\n",
    "d['R'] = 'ok I guess'"
   ]
  },
  {
   "cell_type": "code",
   "execution_count": 6,
   "id": "8137bd02",
   "metadata": {},
   "outputs": [
    {
     "data": {
      "text/plain": [
       "{'python': 'great', 'R': 'ok I guess'}"
      ]
     },
     "execution_count": 6,
     "metadata": {},
     "output_type": "execute_result"
    }
   ],
   "source": [
    "d"
   ]
  },
  {
   "cell_type": "code",
   "execution_count": 7,
   "id": "58a96e99",
   "metadata": {},
   "outputs": [
    {
     "data": {
      "text/plain": [
       "{'python': {'3.11': 'current', '3.8': 'oldish', '2,7': 'outdated'},\n",
       " 'R': {'4': 'current', '3': 'old'}}"
      ]
     },
     "execution_count": 7,
     "metadata": {},
     "output_type": "execute_result"
    }
   ],
   "source": [
    "d ={}\n",
    "d['python'] = {'3.11':'current', '3.8':'oldish','2,7':'outdated'}\n",
    "d['R'] = {'4':'current' , '3':'old'}\n",
    "d"
   ]
  },
  {
   "cell_type": "code",
   "execution_count": 9,
   "id": "23c0728b",
   "metadata": {},
   "outputs": [
    {
     "data": {
      "text/plain": [
       "'current'"
      ]
     },
     "execution_count": 9,
     "metadata": {},
     "output_type": "execute_result"
    }
   ],
   "source": [
    "tmp = d['R']\n",
    "tmp['4']"
   ]
  },
  {
   "cell_type": "code",
   "execution_count": 10,
   "id": "7ffc650c",
   "metadata": {},
   "outputs": [
    {
     "data": {
      "text/plain": [
       "'current'"
      ]
     },
     "execution_count": 10,
     "metadata": {},
     "output_type": "execute_result"
    }
   ],
   "source": [
    "d['R']['4']"
   ]
  },
  {
   "cell_type": "code",
   "execution_count": 11,
   "id": "8007d9e7",
   "metadata": {},
   "outputs": [
    {
     "data": {
      "text/plain": [
       "False"
      ]
     },
     "execution_count": 11,
     "metadata": {},
     "output_type": "execute_result"
    }
   ],
   "source": [
    "'java' in d"
   ]
  },
  {
   "cell_type": "code",
   "execution_count": 13,
   "id": "3506c8db",
   "metadata": {},
   "outputs": [
    {
     "data": {
      "text/plain": [
       "False"
      ]
     },
     "execution_count": 13,
     "metadata": {},
     "output_type": "execute_result"
    }
   ],
   "source": [
    "'x' in 'Wandrille'"
   ]
  },
  {
   "cell_type": "code",
   "execution_count": 14,
   "id": "4b15e4ba",
   "metadata": {},
   "outputs": [
    {
     "name": "stdout",
     "output_type": "stream",
     "text": [
      "python 3\n",
      "R 2\n"
     ]
    }
   ],
   "source": [
    "for lang in d:\n",
    "    print(lang, len(d[lang]) )"
   ]
  },
  {
   "cell_type": "code",
   "execution_count": 18,
   "id": "cb8e169f",
   "metadata": {},
   "outputs": [
    {
     "name": "stdout",
     "output_type": "stream",
     "text": [
      "ok\n"
     ]
    }
   ],
   "source": [
    "d_lang = d['python']\n",
    "\n",
    "v = '3.11'\n",
    "\n",
    "if d_lang[v] == 'current':\n",
    "    print('ok')\n",
    "else:\n",
    "    print('not ok')"
   ]
  },
  {
   "cell_type": "code",
   "execution_count": 21,
   "id": "c4a398b8",
   "metadata": {},
   "outputs": [
    {
     "data": {
      "text/plain": [
       "'3.11'"
      ]
     },
     "execution_count": 21,
     "metadata": {},
     "output_type": "execute_result"
    }
   ],
   "source": [
    "current = ''\n",
    "for v in d_lang:\n",
    "    \n",
    "    if d_lang[v] == 'current':\n",
    "        current = v\n",
    "        break\n",
    "\n",
    "current"
   ]
  },
  {
   "cell_type": "code",
   "execution_count": 22,
   "id": "a150244f",
   "metadata": {},
   "outputs": [
    {
     "data": {
      "text/plain": [
       "{'python': {'3.11': 'current', '3.8': 'oldish', '2,7': 'outdated'},\n",
       " 'R': {'4': 'current', '3': 'old'}}"
      ]
     },
     "execution_count": 22,
     "metadata": {},
     "output_type": "execute_result"
    }
   ],
   "source": [
    "d"
   ]
  },
  {
   "cell_type": "code",
   "execution_count": 25,
   "id": "0cca5aba",
   "metadata": {},
   "outputs": [
    {
     "name": "stdout",
     "output_type": "stream",
     "text": [
      "python 3.11\n",
      "R 4\n"
     ]
    }
   ],
   "source": [
    "for lang in d:\n",
    "    \n",
    "    current = ''\n",
    "    d_lang = d[lang]\n",
    "    \n",
    "    for v in d_lang:\n",
    "\n",
    "        if d_lang[v] == 'current':\n",
    "            current = v\n",
    "            break\n",
    "\n",
    "    print( lang , current )"
   ]
  },
  {
   "cell_type": "code",
   "execution_count": 27,
   "id": "545e169b",
   "metadata": {},
   "outputs": [
    {
     "data": {
      "text/plain": [
       "'4'"
      ]
     },
     "execution_count": 27,
     "metadata": {},
     "output_type": "execute_result"
    }
   ],
   "source": [
    "def find_current_version( lang , d ):\n",
    "    current = ''\n",
    "    d_lang = d[lang]\n",
    "    \n",
    "    for v in d_lang:\n",
    "\n",
    "        if d_lang[v] == 'current':\n",
    "            current = v\n",
    "            break\n",
    "    return current\n",
    "\n",
    "find_current_version( 'R' , d )"
   ]
  },
  {
   "cell_type": "code",
   "execution_count": 28,
   "id": "f672bf15",
   "metadata": {},
   "outputs": [
    {
     "name": "stdout",
     "output_type": "stream",
     "text": [
      "python 3.11\n",
      "R 4\n"
     ]
    }
   ],
   "source": [
    "for lang in d:\n",
    "    \n",
    "    current = find_current_version(lang , d)\n",
    "    print( lang , current )"
   ]
  },
  {
   "cell_type": "code",
   "execution_count": null,
   "id": "c8e2da9d",
   "metadata": {},
   "outputs": [],
   "source": []
  },
  {
   "cell_type": "code",
   "execution_count": null,
   "id": "5004a77e",
   "metadata": {},
   "outputs": [],
   "source": []
  },
  {
   "cell_type": "code",
   "execution_count": null,
   "id": "e53fbf29",
   "metadata": {},
   "outputs": [],
   "source": []
  },
  {
   "cell_type": "code",
   "execution_count": null,
   "id": "4e0902db",
   "metadata": {},
   "outputs": [],
   "source": []
  }
 ],
 "metadata": {
  "kernelspec": {
   "display_name": "Environment (conda_py38)",
   "language": "python",
   "name": "conda_py38"
  },
  "language_info": {
   "codemirror_mode": {
    "name": "ipython",
    "version": 3
   },
   "file_extension": ".py",
   "mimetype": "text/x-python",
   "name": "python",
   "nbconvert_exporter": "python",
   "pygments_lexer": "ipython3",
   "version": "3.8.8"
  }
 },
 "nbformat": 4,
 "nbformat_minor": 5
}
