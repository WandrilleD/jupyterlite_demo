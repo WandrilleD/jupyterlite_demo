{
 "cells": [
  {
   "cell_type": "markdown",
   "metadata": {},
   "source": [
    "# Exercises module 3 - reading and writing files\n",
    "----------------------------------------------------------------------\n",
    "\n",
    "\n",
    "## Exercise 3.1\n",
    "\n",
    "Write a function that reads the first 10 lines of the file `data/Homo_sapiens.GRCh38.99.MT.gtf` and writes them to another file."
   ]
  },
  {
   "cell_type": "code",
   "execution_count": null,
   "metadata": {
    "scrolled": true
   },
   "outputs": [],
   "source": [
    "with open(\"data/Homo_sapiens.GRCh38.99.MT.gtf\" , 'r') as IN , open(\"tmp.txt\", 'w') as OUT:\n",
    "    i = 0\n",
    "    for l in IN:\n",
    "\n",
    "        print(i)\n",
    "        if i >= 10:\n",
    "            break\n",
    "        print( l.strip() , file = OUT )\n",
    "        i +=1\n",
    "\n",
    "##for testing        \n",
    "with open('tmp.txt','r') as IN:\n",
    "    for l in IN:\n",
    "        print(l)"
   ]
  },
  {
   "cell_type": "code",
   "execution_count": null,
   "metadata": {},
   "outputs": [],
   "source": [
    "with open(\"data/Homo_sapiens.GRCh38.99.MT.gtf\" , 'r') as IN , open(\"tmp.txt\", 'w') as OUT:\n",
    "    for i in range(10):\n",
    "        print(i)\n",
    "        print(IN.readline().strip(), file=OUT)\n",
    "        ### read ...\n",
    "        \n",
    "##for testing        \n",
    "with open('tmp.txt','r') as IN:\n",
    "    for l in IN:\n",
    "        print(l)"
   ]
  },
  {
   "cell_type": "markdown",
   "metadata": {},
   "source": [
    "<br>\n",
    "\n",
    "### Solution:\n",
    "Uncomment and run the cell below to show the solution."
   ]
  },
  {
   "cell_type": "code",
   "execution_count": null,
   "metadata": {},
   "outputs": [],
   "source": [
    "# %load solutions/solution_31.py"
   ]
  },
  {
   "cell_type": "markdown",
   "metadata": {},
   "source": [
    "<br>\n",
    "\n",
    "## Exercise 3.2\n",
    "\n",
    "The file `data/genbank.sars-cov2.metadata.csv` contains geographic metadata about the SARS-CoV-2 strains found in the genbank database.\n",
    "\n",
    "Here are the first 10 lines from that file:\n",
    "\n",
    "```\n",
    "strain;region;country\n",
    "ARG/Cordoba-1083-6/2020;South America;Argentina\n",
    "ARG/Cordoba-11300-61/2020;South America;Argentina\n",
    "ARG/Cordoba-11301-61/2020;South America;Argentina\n",
    "ARG/Cordoba-11419-61/2020;South America;Argentina\n",
    "mink/NED/NB03_index/2020;Europe;Netherlands\n",
    "mink/NED/NB04_index/2020;Europe;Netherlands\n",
    "mink/NLD/1/2020;Europe;Netherlands\n",
    "tiger/NY/040420/2020;North America;USA\n",
    "```\n",
    "\n",
    "<br>\n",
    "\n",
    "As you can see, each line is composed of 3 fields, separated by a `;`.\n",
    "* The **first field** corresponds to the **strain ID**.\n",
    "* The **second field** corresponds to the **geographic region** of origin of the strain.\n",
    "* The **third field** corresponds to the **country**.\n",
    "\n",
    "Furthermore, the first line does not contain data, but a \"header\" giving column names.\n",
    "\n",
    "Your tasks are the following:\n",
    "* Read the file and store the strain id, geographic regions, and country in three different lists (`strain`,`region`,`country`).\n",
    "* After the file is read, print length of each list (`strain`,`region`,`country`) as well as the first\n",
    "  3 elements of each list.\n",
    "\n"
   ]
  },
  {
   "cell_type": "code",
   "execution_count": 15,
   "metadata": {},
   "outputs": [],
   "source": [
    "strain = []\n",
    "region = []\n",
    "country = []\n",
    "\n",
    "line = \"mink/NED/NB03_index/2020;Europe;Netherlands\\n\"\n",
    "splitted_line = line.strip().split(';')\n",
    "\n",
    "strain.append( splitted_line[0] )\n",
    "region.append( splitted_line[1] )\n",
    "country.append( splitted_line[2] )"
   ]
  },
  {
   "cell_type": "code",
   "execution_count": 16,
   "metadata": {},
   "outputs": [
    {
     "name": "stdout",
     "output_type": "stream",
     "text": [
      "['mink/NED/NB03_index/2020']\n",
      "['Europe']\n",
      "['Netherlands']\n"
     ]
    }
   ],
   "source": [
    "print( strain )\n",
    "print( region )\n",
    "print( country )"
   ]
  },
  {
   "cell_type": "code",
   "execution_count": 20,
   "metadata": {},
   "outputs": [],
   "source": [
    "strain = []\n",
    "region = []\n",
    "country = []\n",
    "\n",
    "with open('data/genbank.sars-cov2.metadata.csv','r') as IN:\n",
    "\n",
    "    ## reading the header\n",
    "    IN.readline()\n",
    "    \n",
    "    ## reading the data\n",
    "    for line in IN:\n",
    "        splitted_line = line.strip().split(';')\n",
    "\n",
    "        strain.append( splitted_line[0] )\n",
    "        region.append( splitted_line[1] )\n",
    "        country.append( splitted_line[2] )    "
   ]
  },
  {
   "cell_type": "code",
   "execution_count": 21,
   "metadata": {},
   "outputs": [
    {
     "name": "stdout",
     "output_type": "stream",
     "text": [
      "['ARG/Cordoba-1006-155/2020', 'ARG/Cordoba-1083-6/2020', 'ARG/Cordoba-11300-61/2020'] ... ['mink/NED/NB04_index/2020', 'mink/NLD/1/2020', 'tiger/NY/040420/2020']\n",
      "['South America', 'South America', 'South America'] ... ['Europe', 'Europe', 'North America']\n",
      "['Argentina', 'Argentina', 'Argentina'] ... ['Netherlands', 'Netherlands', 'USA']\n"
     ]
    }
   ],
   "source": [
    "print( strain[:3] , '...' , strain[-3:] )\n",
    "print( region[:3] , '...' , region[-3:] )\n",
    "print( country[:3] , '...' , country[-3:] )"
   ]
  },
  {
   "cell_type": "code",
   "execution_count": 23,
   "metadata": {},
   "outputs": [
    {
     "data": {
      "text/html": [
       "<div>\n",
       "<style scoped>\n",
       "    .dataframe tbody tr th:only-of-type {\n",
       "        vertical-align: middle;\n",
       "    }\n",
       "\n",
       "    .dataframe tbody tr th {\n",
       "        vertical-align: top;\n",
       "    }\n",
       "\n",
       "    .dataframe thead th {\n",
       "        text-align: right;\n",
       "    }\n",
       "</style>\n",
       "<table border=\"1\" class=\"dataframe\">\n",
       "  <thead>\n",
       "    <tr style=\"text-align: right;\">\n",
       "      <th></th>\n",
       "      <th>strain</th>\n",
       "      <th>region</th>\n",
       "      <th>country</th>\n",
       "    </tr>\n",
       "  </thead>\n",
       "  <tbody>\n",
       "    <tr>\n",
       "      <th>0</th>\n",
       "      <td>ARG/Cordoba-1006-155/2020</td>\n",
       "      <td>South America</td>\n",
       "      <td>Argentina</td>\n",
       "    </tr>\n",
       "    <tr>\n",
       "      <th>1</th>\n",
       "      <td>ARG/Cordoba-1083-6/2020</td>\n",
       "      <td>South America</td>\n",
       "      <td>Argentina</td>\n",
       "    </tr>\n",
       "    <tr>\n",
       "      <th>2</th>\n",
       "      <td>ARG/Cordoba-11300-61/2020</td>\n",
       "      <td>South America</td>\n",
       "      <td>Argentina</td>\n",
       "    </tr>\n",
       "    <tr>\n",
       "      <th>3</th>\n",
       "      <td>ARG/Cordoba-11301-61/2020</td>\n",
       "      <td>South America</td>\n",
       "      <td>Argentina</td>\n",
       "    </tr>\n",
       "    <tr>\n",
       "      <th>4</th>\n",
       "      <td>ARG/Cordoba-11419-61/2020</td>\n",
       "      <td>South America</td>\n",
       "      <td>Argentina</td>\n",
       "    </tr>\n",
       "  </tbody>\n",
       "</table>\n",
       "</div>"
      ],
      "text/plain": [
       "                      strain         region    country\n",
       "0  ARG/Cordoba-1006-155/2020  South America  Argentina\n",
       "1    ARG/Cordoba-1083-6/2020  South America  Argentina\n",
       "2  ARG/Cordoba-11300-61/2020  South America  Argentina\n",
       "3  ARG/Cordoba-11301-61/2020  South America  Argentina\n",
       "4  ARG/Cordoba-11419-61/2020  South America  Argentina"
      ]
     },
     "execution_count": 23,
     "metadata": {},
     "output_type": "execute_result"
    }
   ],
   "source": [
    "import pandas as pd\n",
    "\n",
    "df = pd.read_csv(\"data/genbank.sars-cov2.metadata.csv\", sep=';')\n",
    "df.head()"
   ]
  },
  {
   "cell_type": "markdown",
   "metadata": {},
   "source": [
    "<br>\n",
    "\n",
    "### Solution:\n",
    "Uncomment and run the cell below to show the solution."
   ]
  },
  {
   "cell_type": "code",
   "execution_count": null,
   "metadata": {},
   "outputs": [],
   "source": [
    "# %load solutions/solution_32.py"
   ]
  },
  {
   "cell_type": "markdown",
   "metadata": {},
   "source": [
    "<br>\n",
    "<br>\n",
    "\n",
    "# Additional exercises\n",
    "--------------------------------\n",
    "\n",
    "<br>\n",
    "\n",
    "## Additional exercise 3.3\n",
    "Using the same `data/Homo_sapiens.GRCh38.99.MT.gtf` GFF file you used in exercise 3.1, report (print to terminal) all of the feature entries for genes on the mitochondrial chromosome (`MT`) between coordinates 7500 and 10000 on the forward strand.  \n",
    "The complete GFF file format description can be found <a href=\"https://www.ensembl.org/info/website/upload/gff.html\">here</a>, but here is a succint description: \n",
    "* Column 1: chromosome\n",
    "* Column 2: data source\n",
    "* Column 3: feature type\n",
    "* Column 4: feature start coordinate\n",
    "* Column 5: feature end coordinate\n",
    "* Column 6: score\n",
    "* Column 7: strand\n",
    "\n",
    "**hint:** what is the separator between fields ?"
   ]
  },
  {
   "cell_type": "code",
   "execution_count": null,
   "metadata": {},
   "outputs": [],
   "source": [
    "   "
   ]
  },
  {
   "cell_type": "markdown",
   "metadata": {},
   "source": [
    "<br>\n",
    "\n",
    "### Solution:\n",
    "Uncomment and run the cell below to show the solution."
   ]
  },
  {
   "cell_type": "code",
   "execution_count": null,
   "metadata": {},
   "outputs": [],
   "source": [
    "# %load solutions/solution_33.py"
   ]
  }
 ],
 "metadata": {
  "kernelspec": {
   "display_name": "Python 3 (ipykernel)",
   "language": "python",
   "name": "python3"
  },
  "language_info": {
   "codemirror_mode": {
    "name": "ipython",
    "version": 3
   },
   "file_extension": ".py",
   "mimetype": "text/x-python",
   "name": "python",
   "nbconvert_exporter": "python",
   "pygments_lexer": "ipython3",
   "version": "3.8.8"
  }
 },
 "nbformat": 4,
 "nbformat_minor": 4
}
